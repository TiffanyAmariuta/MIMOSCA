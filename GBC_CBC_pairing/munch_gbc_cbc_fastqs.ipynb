{
 "cells": [
  {
   "cell_type": "code",
   "execution_count": 2,
   "metadata": {
    "collapsed": true
   },
   "outputs": [],
   "source": [
    "%matplotlib inline"
   ]
  },
  {
   "cell_type": "code",
   "execution_count": null,
   "metadata": {
    "collapsed": true
   },
   "outputs": [],
   "source": [
    "import pandas as pd\n",
    "import numpy.matlib\n",
    "import numpy as np\n",
    "import time\n",
    "import matplotlib.pyplot as plt\n",
    "import glob\n",
    "import seaborn as sns\n",
    "import collections\n",
    "sns.set_context('talk')\n",
    "sns.set_style('white')\n",
    "import os\n",
    "import sys\n",
    "import csv\n",
    "import re"
   ]
  },
  {
   "cell_type": "code",
   "execution_count": 63,
   "metadata": {
    "collapsed": false
   },
   "outputs": [],
   "source": [
    "path2data='CHANGEHERE'"
   ]
  },
  {
   "cell_type": "code",
   "execution_count": 64,
   "metadata": {
    "collapsed": true
   },
   "outputs": [],
   "source": [
    "R1=pd.read_csv(path2data+'r1.fastq.gz',sep='\\t',header=None)\n",
    "R2=pd.read_csv(path2data+'r2.fastq.gz',sep='\\t',header=None)"
   ]
  },
  {
   "cell_type": "code",
   "execution_count": 65,
   "metadata": {
    "collapsed": false
   },
   "outputs": [],
   "source": [
    "R1_seq=R1[1::4]"
   ]
  },
  {
   "cell_type": "code",
   "execution_count": 66,
   "metadata": {
    "collapsed": false,
    "scrolled": true
   },
   "outputs": [],
   "source": [
    "R2_seq=R2.ix[1::4]"
   ]
  },
  {
   "cell_type": "code",
   "execution_count": 67,
   "metadata": {
    "collapsed": false
   },
   "outputs": [],
   "source": [
    "R_combined=pd.concat([R1_seq,R2_seq],axis=1)"
   ]
  },
  {
   "cell_type": "code",
   "execution_count": 68,
   "metadata": {
    "collapsed": false
   },
   "outputs": [],
   "source": [
    "R_combined.columns=['R1-RNA','R2-Cell_barcode']"
   ]
  },
  {
   "cell_type": "code",
   "execution_count": 69,
   "metadata": {
    "collapsed": false
   },
   "outputs": [],
   "source": [
    "#check for primer sequence\n",
    "checksubstr=['GGCACAAGCTTAATTAAGAATT' in x for x in R_combined['R1-RNA']]"
   ]
  },
  {
   "cell_type": "code",
   "execution_count": 70,
   "metadata": {
    "collapsed": false
   },
   "outputs": [],
   "source": [
    "R_matching=R_combined[checksubstr]"
   ]
  },
  {
   "cell_type": "code",
   "execution_count": null,
   "metadata": {
    "collapsed": true
   },
   "outputs": [],
   "source": [
    "R_matching['RNA-CBC']=[x+'-'+y for x,y in zip(R_matching['R1-RNA'],R_matching['R2-Cell_barcode'])]"
   ]
  },
  {
   "cell_type": "code",
   "execution_count": 72,
   "metadata": {
    "collapsed": false
   },
   "outputs": [
    {
     "data": {
      "text/html": [
       "<div>\n",
       "<table border=\"1\" class=\"dataframe\">\n",
       "  <thead>\n",
       "    <tr style=\"text-align: right;\">\n",
       "      <th></th>\n",
       "      <th>R1-RNA</th>\n",
       "      <th>R2-Cell_barcode</th>\n",
       "      <th>RNA-CBC</th>\n",
       "    </tr>\n",
       "  </thead>\n",
       "  <tbody>\n",
       "    <tr>\n",
       "      <th>189</th>\n",
       "      <td>GGCAAACTGGGGCACAAGCTTAATTAAGAATTTTCNCTACNNGCTA...</td>\n",
       "      <td>AGAAACTTAT</td>\n",
       "      <td>GGCAAACTGGGGCACAAGCTTAATTAAGAATTTTCNCTACNNGCTA...</td>\n",
       "    </tr>\n",
       "    <tr>\n",
       "      <th>193</th>\n",
       "      <td>AGCAAACTGGGGCACAAGCTTAATTAAGAATTGCCAGGATNNACAA...</td>\n",
       "      <td>ATGCTGTCAC</td>\n",
       "      <td>AGCAAACTGGGGCACAAGCTTAATTAAGAATTGCCAGGATNNACAA...</td>\n",
       "    </tr>\n",
       "    <tr>\n",
       "      <th>245</th>\n",
       "      <td>AGCAAACTGGGGCACAAGCTTAATTAAGAATTCTAGACTCNNACAC...</td>\n",
       "      <td>ATGCTACCCA</td>\n",
       "      <td>AGCAAACTGGGGCACAAGCTTAATTAAGAATTCTAGACTCNNACAC...</td>\n",
       "    </tr>\n",
       "    <tr>\n",
       "      <th>273</th>\n",
       "      <td>AGCAAACTGGGGCACAAGCTTAATTAAGAATTGTTGACCTNNTCAG...</td>\n",
       "      <td>TAGCATGAGA</td>\n",
       "      <td>AGCAAACTGGGGCACAAGCTTAATTAAGAATTGTTGACCTNNTCAG...</td>\n",
       "    </tr>\n",
       "    <tr>\n",
       "      <th>285</th>\n",
       "      <td>AGCAAACTGGGGCACAAGCTTAATTAAGAATTAGGGCTTGNAGTGC...</td>\n",
       "      <td>TAACTACCCT</td>\n",
       "      <td>AGCAAACTGGGGCACAAGCTTAATTAAGAATTAGGGCTTGNAGTGC...</td>\n",
       "    </tr>\n",
       "  </tbody>\n",
       "</table>\n",
       "</div>"
      ],
      "text/plain": [
       "                                                R1-RNA R2-Cell_barcode  \\\n",
       "189  GGCAAACTGGGGCACAAGCTTAATTAAGAATTTTCNCTACNNGCTA...      AGAAACTTAT   \n",
       "193  AGCAAACTGGGGCACAAGCTTAATTAAGAATTGCCAGGATNNACAA...      ATGCTGTCAC   \n",
       "245  AGCAAACTGGGGCACAAGCTTAATTAAGAATTCTAGACTCNNACAC...      ATGCTACCCA   \n",
       "273  AGCAAACTGGGGCACAAGCTTAATTAAGAATTGTTGACCTNNTCAG...      TAGCATGAGA   \n",
       "285  AGCAAACTGGGGCACAAGCTTAATTAAGAATTAGGGCTTGNAGTGC...      TAACTACCCT   \n",
       "\n",
       "                                               RNA-CBC  \n",
       "189  GGCAAACTGGGGCACAAGCTTAATTAAGAATTTTCNCTACNNGCTA...  \n",
       "193  AGCAAACTGGGGCACAAGCTTAATTAAGAATTGCCAGGATNNACAA...  \n",
       "245  AGCAAACTGGGGCACAAGCTTAATTAAGAATTCTAGACTCNNACAC...  \n",
       "273  AGCAAACTGGGGCACAAGCTTAATTAAGAATTGTTGACCTNNTCAG...  \n",
       "285  AGCAAACTGGGGCACAAGCTTAATTAAGAATTAGGGCTTGNAGTGC...  "
      ]
     },
     "execution_count": 72,
     "metadata": {},
     "output_type": "execute_result"
    }
   ],
   "source": [
    "R_matching.head()"
   ]
  },
  {
   "cell_type": "code",
   "execution_count": null,
   "metadata": {
    "collapsed": true
   },
   "outputs": [],
   "source": [
    "R_matching['counts']=[1]*len(R_matching)"
   ]
  },
  {
   "cell_type": "code",
   "execution_count": 74,
   "metadata": {
    "collapsed": false
   },
   "outputs": [],
   "source": [
    "R_grouped=R_matching.groupby('RNA-CBC').sum()"
   ]
  },
  {
   "cell_type": "code",
   "execution_count": 75,
   "metadata": {
    "collapsed": false
   },
   "outputs": [
    {
     "data": {
      "text/html": [
       "<div>\n",
       "<table border=\"1\" class=\"dataframe\">\n",
       "  <thead>\n",
       "    <tr style=\"text-align: right;\">\n",
       "      <th></th>\n",
       "      <th>counts</th>\n",
       "    </tr>\n",
       "    <tr>\n",
       "      <th>RNA-CBC</th>\n",
       "      <th></th>\n",
       "    </tr>\n",
       "  </thead>\n",
       "  <tbody>\n",
       "    <tr>\n",
       "      <th>AGCAAACTGGGGCACAAGCTTAATTAAGAATTCGAGCGGTCGGCACTCGGCCTAG-GGGGGGGGGG</th>\n",
       "      <td>13</td>\n",
       "    </tr>\n",
       "    <tr>\n",
       "      <th>AGCAAACTGGGGCACAAGCTTAATTAAGAATTCTCACAACAGGCCCCGGGCCTAG-GGGGGGGGGG</th>\n",
       "      <td>7</td>\n",
       "    </tr>\n",
       "    <tr>\n",
       "      <th>AGCAAACTGGGGCACAAGCTTAATTAAGAATTCTAACTCAGCGACTGGAGCCTAG-GGGGGGGGGG</th>\n",
       "      <td>6</td>\n",
       "    </tr>\n",
       "    <tr>\n",
       "      <th>AGCAAACTGGGGCACAAGCTTAATTAAGAATTTGGCGCGCAGATTTGCGGCCTAG-GGGGGGGGGG</th>\n",
       "      <td>6</td>\n",
       "    </tr>\n",
       "    <tr>\n",
       "      <th>AGCAAACTGGGGCACAAGCTTAATTAAGAATTGGTGTCGTTCCGAGAGCGCCTAG-GGGGGGGGGG</th>\n",
       "      <td>5</td>\n",
       "    </tr>\n",
       "    <tr>\n",
       "      <th>AGCAAACTGGGGCACAAGCTTAATTAAGAATTTCACTTATGGGTACGAGGCCTAG-GGGGGGGGGG</th>\n",
       "      <td>5</td>\n",
       "    </tr>\n",
       "    <tr>\n",
       "      <th>AGCAAACTGGGGCACAAGCTTAATTAAGAATTGGCTGAAGACCTTAAACGCCTAG-GGGGGGGGGG</th>\n",
       "      <td>4</td>\n",
       "    </tr>\n",
       "    <tr>\n",
       "      <th>AGCAAACTGGGGCACAAGCTTAATTAAGAATTCCCCTAAGGCACCAGCGCCCTAG-GGGGGGGGGG</th>\n",
       "      <td>4</td>\n",
       "    </tr>\n",
       "    <tr>\n",
       "      <th>AGCAAACTGGGGCACAAGCTTAATTAAGAATTCTCACCTTGAAGCGACCACCTAG-GGGGGGGGGG</th>\n",
       "      <td>4</td>\n",
       "    </tr>\n",
       "    <tr>\n",
       "      <th>AGCAAACTGGGGCACAAGCTTAATTAAGAATTGAAACTCTCCCGCCTGACCCTAG-GGGGGGGGGG</th>\n",
       "      <td>4</td>\n",
       "    </tr>\n",
       "    <tr>\n",
       "      <th>AGCAAACTGGGGCACAAGCTTAATTAAGAATTCAAAGCGATCGCCTAATGCCTAG-GGGGGGGGGG</th>\n",
       "      <td>3</td>\n",
       "    </tr>\n",
       "    <tr>\n",
       "      <th>AGCAAACTGGGGCACAAGCTTAATTAAGAATTTTCGCTACCTGCTACCCGCCTAG-GGGGGGGGGG</th>\n",
       "      <td>3</td>\n",
       "    </tr>\n",
       "    <tr>\n",
       "      <th>AGCAAACTGGGGCACAAGCTTAATTAAGAATTTTCATGATCTCCGACATCCCTAG-GGGGGGGGGG</th>\n",
       "      <td>3</td>\n",
       "    </tr>\n",
       "    <tr>\n",
       "      <th>AGCAAACTGGGGCACAAGCTTAATTAAGAATTGCCAGGATGTACAAACTGCCTAG-GGGGGGGGGG</th>\n",
       "      <td>3</td>\n",
       "    </tr>\n",
       "    <tr>\n",
       "      <th>AGCAAACTGGGGCACAAGCTTAATTAAGAATTTTAGTGCAGACCGACCAGCCTAG-GGGGGGGGGG</th>\n",
       "      <td>3</td>\n",
       "    </tr>\n",
       "    <tr>\n",
       "      <th>AGCAAACTGGGGCACAAGCTTAATTAAGAATTTTACCCCATGACCCACTGCCTAG-GGGGGGGGGG</th>\n",
       "      <td>3</td>\n",
       "    </tr>\n",
       "    <tr>\n",
       "      <th>AGCAAACTGGGGCACAAGCTTAATTAAGAATTAGGGCTTGCAGTGCACGGCCTAG-GGGGGGGGGG</th>\n",
       "      <td>3</td>\n",
       "    </tr>\n",
       "    <tr>\n",
       "      <th>AGCAAACTGGGGCACAAGCTTAATTAAGAATTCTCACAACAGGCCCCGGGCCTAG-CACACCAACG</th>\n",
       "      <td>3</td>\n",
       "    </tr>\n",
       "    <tr>\n",
       "      <th>AGCAAACTGGGGCACAAGCTTAATTAAGAATTGTATAACTGATCAGCAGACCTAG-GGGGGGGGGG</th>\n",
       "      <td>3</td>\n",
       "    </tr>\n",
       "    <tr>\n",
       "      <th>AGCAAACTGGGGCACAAGCTTAATTAAGAATTCCTATCTCTTCCCACCGGCCTAG-GGGGGGGGGG</th>\n",
       "      <td>3</td>\n",
       "    </tr>\n",
       "  </tbody>\n",
       "</table>\n",
       "</div>"
      ],
      "text/plain": [
       "                                                    counts\n",
       "RNA-CBC                                                   \n",
       "AGCAAACTGGGGCACAAGCTTAATTAAGAATTCGAGCGGTCGGCACT...      13\n",
       "AGCAAACTGGGGCACAAGCTTAATTAAGAATTCTCACAACAGGCCCC...       7\n",
       "AGCAAACTGGGGCACAAGCTTAATTAAGAATTCTAACTCAGCGACTG...       6\n",
       "AGCAAACTGGGGCACAAGCTTAATTAAGAATTTGGCGCGCAGATTTG...       6\n",
       "AGCAAACTGGGGCACAAGCTTAATTAAGAATTGGTGTCGTTCCGAGA...       5\n",
       "AGCAAACTGGGGCACAAGCTTAATTAAGAATTTCACTTATGGGTACG...       5\n",
       "AGCAAACTGGGGCACAAGCTTAATTAAGAATTGGCTGAAGACCTTAA...       4\n",
       "AGCAAACTGGGGCACAAGCTTAATTAAGAATTCCCCTAAGGCACCAG...       4\n",
       "AGCAAACTGGGGCACAAGCTTAATTAAGAATTCTCACCTTGAAGCGA...       4\n",
       "AGCAAACTGGGGCACAAGCTTAATTAAGAATTGAAACTCTCCCGCCT...       4\n",
       "AGCAAACTGGGGCACAAGCTTAATTAAGAATTCAAAGCGATCGCCTA...       3\n",
       "AGCAAACTGGGGCACAAGCTTAATTAAGAATTTTCGCTACCTGCTAC...       3\n",
       "AGCAAACTGGGGCACAAGCTTAATTAAGAATTTTCATGATCTCCGAC...       3\n",
       "AGCAAACTGGGGCACAAGCTTAATTAAGAATTGCCAGGATGTACAAA...       3\n",
       "AGCAAACTGGGGCACAAGCTTAATTAAGAATTTTAGTGCAGACCGAC...       3\n",
       "AGCAAACTGGGGCACAAGCTTAATTAAGAATTTTACCCCATGACCCA...       3\n",
       "AGCAAACTGGGGCACAAGCTTAATTAAGAATTAGGGCTTGCAGTGCA...       3\n",
       "AGCAAACTGGGGCACAAGCTTAATTAAGAATTCTCACAACAGGCCCC...       3\n",
       "AGCAAACTGGGGCACAAGCTTAATTAAGAATTGTATAACTGATCAGC...       3\n",
       "AGCAAACTGGGGCACAAGCTTAATTAAGAATTCCTATCTCTTCCCAC...       3"
      ]
     },
     "execution_count": 75,
     "metadata": {},
     "output_type": "execute_result"
    }
   ],
   "source": [
    "R_grouped.sort_values('counts',ascending=False).head(20)"
   ]
  },
  {
   "cell_type": "markdown",
   "metadata": {},
   "source": [
    "Note we typically do observe a polyG in the cell barcode in some cases when we sequence on the NextSeq  (often the most abundant as seen here). However they are typically a small fraction of the entire run."
   ]
  },
  {
   "cell_type": "code",
   "execution_count": 76,
   "metadata": {
    "collapsed": true
   },
   "outputs": [],
   "source": [
    "R_grouped.to_csv(path2data+'munched_counts.txt',sep='\\t')"
   ]
  }
 ],
 "metadata": {
  "kernelspec": {
   "display_name": "Python 2",
   "language": "python",
   "name": "python2"
  },
  "language_info": {
   "codemirror_mode": {
    "name": "ipython",
    "version": 2
   },
   "file_extension": ".py",
   "mimetype": "text/x-python",
   "name": "python",
   "nbconvert_exporter": "python",
   "pygments_lexer": "ipython2",
   "version": "2.7.11"
  }
 },
 "nbformat": 4,
 "nbformat_minor": 0
}
