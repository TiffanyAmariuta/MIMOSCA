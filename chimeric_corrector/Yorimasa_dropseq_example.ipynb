{
 "cells": [
  {
   "cell_type": "code",
   "execution_count": 1,
   "metadata": {
    "collapsed": false
   },
   "outputs": [
    {
     "name": "stderr",
     "output_type": "stream",
     "text": [
      "/Users/atray/anaconda/lib/python2.7/site-packages/pandas/computation/__init__.py:19: UserWarning: The installed version of numexpr 2.4.4 is not supported in pandas and will be not be used\n",
      "\n",
      "  UserWarning)\n",
      "/Users/atray/anaconda/lib/python2.7/site-packages/matplotlib/__init__.py:1350: UserWarning:  This call to matplotlib.use() has no effect\n",
      "because the backend has already been chosen;\n",
      "matplotlib.use() must be called *before* pylab, matplotlib.pyplot,\n",
      "or matplotlib.backends is imported for the first time.\n",
      "\n",
      "  warnings.warn(_use_error_msg)\n"
     ]
    }
   ],
   "source": [
    "%matplotlib inline\n",
    "import pandas as pd\n",
    "import numpy as np\n",
    "import matplotlib.pyplot as plt\n",
    "import matplotlib\n",
    "matplotlib.use('Agg')\n",
    "import matplotlib.pyplot as plt\n",
    "matplotlib.rcParams['pdf.fonttype'] = 42\n",
    "import seaborn as sns\n",
    "sns.set_context('talk')\n",
    "sns.set_style('white')\n",
    "sns.set_style('ticks')\n",
    "import scipy\n",
    "from scipy import sparse, io\n",
    "import h5py\n",
    "import re\n",
    "import time\n",
    "import sklearn\n",
    "import sys\n",
    "import statsmodels\n",
    "import statsmodels.api as sm\n",
    "import sklearn.ensemble"
   ]
  },
  {
   "cell_type": "code",
   "execution_count": 2,
   "metadata": {
    "collapsed": true
   },
   "outputs": [],
   "source": [
    "outputpath='CHANGE THIS TO OUTPUT PATH'\n",
    "path2data='CHANGE THIS TO DATA PATH'\n",
    "#threshold on maximum tolerable false positive rate for random forest filter\n",
    "fpr_threshold=0.02"
   ]
  },
  {
   "cell_type": "code",
   "execution_count": 3,
   "metadata": {
    "collapsed": false
   },
   "outputs": [],
   "source": [
    "#read, label, and concatenate human and mouse data\n",
    "Th=pd.read_csv(path2data+'SpeciesMix_HundredSTAMP_bq10_star_HUMAN_auto_molBC.txt.gz',sep='\\t')\n",
    "Tm=pd.read_csv(path2data+'SpeciesMix_HundredSTAMP_bq10_star_MOUSE_auto_molBC.txt.gz',sep='\\t')\n",
    "Th['human']=[1.0]*len(Th)\n",
    "Th['mouse']=[0.0]*len(Th)\n",
    "Tm['human']=[0.0]*len(Tm)\n",
    "Tm['mouse']=[1.0]*len(Tm)\n",
    "T=pd.concat([Th,Tm])\n",
    "T['bcumi']=[x+'-'+y for x,y in zip(T['Cell Barcode'],T['Molecular_Barcode'])]"
   ]
  },
  {
   "cell_type": "code",
   "execution_count": 4,
   "metadata": {
    "collapsed": true
   },
   "outputs": [],
   "source": [
    "#TPT calculation\n",
    "\n",
    "BCUMI_group=T.groupby('bcumi').sum()\n",
    "BCUMI_group['gpt']=BCUMI_group['human']+BCUMI_group['mouse']\n",
    "BCUMI_group=pd.DataFrame(BCUMI_group[['Num_Obs','gpt']])\n",
    "BCUMI_group.columns=['total_reads','gpt']\n",
    "T_tot=T.copy()\n",
    "T_tot.index=T_tot['bcumi']\n",
    "T_tot=T_tot.join(BCUMI_group)\n",
    "T_tot['TPT']=1.0*(np.divide(1.0*T_tot['Num_Obs'],T_tot['total_reads']))\n",
    "TTPT_filt=T_tot.copy()\n",
    "\n",
    "\n",
    "# Identify human and mouse cells (higher than 95% purity)\n",
    "\n",
    "Tmeans=TTPT_filt.groupby('Cell Barcode').mean()\n",
    "Tmeans['mouse_lab']=Tmeans['mouse']>0.95\n",
    "Tmeans['human_lab']=Tmeans['human']>0.95\n",
    "Tmeansf=Tmeans[['mouse_lab','human_lab']]\n",
    "\n",
    "\n",
    "TTPT_filt.index=TTPT_filt['Cell Barcode']\n",
    "\n",
    "Tfmerge=TTPT_filt.join(Tmeansf)\n",
    "\n",
    "gmeans=Tfmerge.groupby('Gene').sum()"
   ]
  },
  {
   "cell_type": "code",
   "execution_count": 5,
   "metadata": {
    "collapsed": true
   },
   "outputs": [],
   "source": [
    "#TPM normalize gene means within species\n",
    "gmeans.ix[gmeans['human']>0,'Num_Obs']=np.divide(1e6*gmeans.ix[gmeans['human']>0,'Num_Obs'],np.sum(gmeans.ix[gmeans['human']>0,'Num_Obs']))\n",
    "gmeans.ix[gmeans['mouse']>0,'Num_Obs']=np.divide(1e6*gmeans.ix[gmeans['mouse']>0,'Num_Obs'],np.sum(gmeans.ix[gmeans['mouse']>0,'Num_Obs']))\n",
    "gmeans=pd.DataFrame(np.log2(gmeans['Num_Obs']+1))\n",
    "gmeans.columns=['gsums']"
   ]
  },
  {
   "cell_type": "code",
   "execution_count": 6,
   "metadata": {
    "collapsed": false
   },
   "outputs": [],
   "source": [
    "Tfmerge.index=Tfmerge['Gene']\n",
    "\n",
    "Tfmerge=Tfmerge.join(gmeans)\n",
    "\n",
    "Tfbc_group=Tfmerge.groupby('Cell Barcode').sum()\n",
    "\n",
    "#TPM normalize cell barcode abundances within species\n",
    "Tfbc_group.ix[Tfbc_group['human_lab']>0,'Num_Obs']=np.divide(1e6*Tfbc_group.ix[Tfbc_group['human_lab']>0,'Num_Obs'],np.sum(Tfbc_group.ix[Tfbc_group['human_lab']>0,'Num_Obs']))\n",
    "Tfbc_group.ix[Tfbc_group['mouse_lab']>0,'Num_Obs']=np.divide(1e6*Tfbc_group.ix[Tfbc_group['mouse_lab']>0,'Num_Obs'],np.sum(Tfbc_group.ix[Tfbc_group['human_lab']>0,'Num_Obs']))\n",
    "\n",
    "bcsums=pd.DataFrame(Tfbc_group['Num_Obs'])\n",
    "bcsums.columns=['bcsums']\n",
    "\n",
    "Tfmerge.index=Tfmerge['Cell Barcode']\n",
    "Tfmerge=Tfmerge.join(bcsums)\n",
    "\n",
    "Tfbc_group['class']=(1.0*(Tfbc_group['mouse_lab']>0))-(1.0*(Tfbc_group['human_lab']>0))\n",
    "\n",
    "#remove cross-species doublets\n",
    "notdoublet=np.logical_or(Tfmerge['mouse_lab'],Tfmerge['human_lab'])\n",
    "Tfmerge=Tfmerge[notdoublet]\n",
    "\n",
    "#label mismatch molecules as ones that are genes from the opposite species\n",
    "Tfmerge['mismatch']=np.logical_or(np.logical_and(Tfmerge['human']>0,Tfmerge['mouse_lab']),np.logical_and(Tfmerge['mouse']>0,Tfmerge['human_lab']))"
   ]
  },
  {
   "cell_type": "code",
   "execution_count": 7,
   "metadata": {
    "collapsed": true
   },
   "outputs": [],
   "source": [
    "Tfmerge_h=Tfmerge[Tfmerge['human']>0]\n",
    "Tfmerge_m=Tfmerge[Tfmerge['mouse']>0]"
   ]
  },
  {
   "cell_type": "code",
   "execution_count": 36,
   "metadata": {
    "collapsed": false
   },
   "outputs": [
    {
     "data": {
      "text/plain": [
       "32014"
      ]
     },
     "execution_count": 36,
     "metadata": {},
     "output_type": "execute_result"
    }
   ],
   "source": [
    "np.sum(np.logical_and(Tfmerge['mismatch'],Tfmerge['human_lab']))"
   ]
  },
  {
   "cell_type": "code",
   "execution_count": 37,
   "metadata": {
    "collapsed": false
   },
   "outputs": [
    {
     "data": {
      "text/plain": [
       "27230"
      ]
     },
     "execution_count": 37,
     "metadata": {},
     "output_type": "execute_result"
    }
   ],
   "source": [
    "np.sum(np.logical_and(Tfmerge['mismatch'],Tfmerge['mouse_lab']))"
   ]
  },
  {
   "cell_type": "code",
   "execution_count": 38,
   "metadata": {
    "collapsed": false
   },
   "outputs": [
    {
     "data": {
      "text/plain": [
       "3394611"
      ]
     },
     "execution_count": 38,
     "metadata": {},
     "output_type": "execute_result"
    }
   ],
   "source": [
    "np.sum(np.logical_not(Tfmerge['mismatch']))"
   ]
  },
  {
   "cell_type": "code",
   "execution_count": 39,
   "metadata": {
    "collapsed": true
   },
   "outputs": [],
   "source": [
    "#gene level summary statistics\n",
    "hprop=pd.read_csv('PATH2hg38geneprops'+'/hg38geneprops.csv',index_col=0)\n",
    "hprop['Gene']=hprop.index\n",
    "mprop=pd.read_csv('PATH2hg38geneprops'+'/mm10geneprops.csv',index_col=0)\n",
    "mprop['Gene']=mprop.index"
   ]
  },
  {
   "cell_type": "code",
   "execution_count": 40,
   "metadata": {
    "collapsed": true
   },
   "outputs": [],
   "source": [
    "#add species level gene properties\n",
    "Tfmerge_h=Tfmerge_h.join(hprop,on='Gene',rsuffix='_2')\n",
    "Tfmerge_h=Tfmerge_h.dropna()\n",
    "Tfmerge_m=Tfmerge_m.join(mprop,on='Gene',rsuffix='_2')\n",
    "Tfmerge_m=Tfmerge_m.dropna()\n",
    "Tfmerge_f=pd.concat([Tfmerge_h,Tfmerge_m])"
   ]
  },
  {
   "cell_type": "code",
   "execution_count": 43,
   "metadata": {
    "collapsed": true
   },
   "outputs": [],
   "source": [
    "Tfmerge_f['log(Reads)']=np.log2(Tfmerge_f['Num_Obs'])"
   ]
  },
  {
   "cell_type": "code",
   "execution_count": 44,
   "metadata": {
    "collapsed": true
   },
   "outputs": [],
   "source": [
    "def gc_calc(seq):\n",
    "    seqlen=len(seq)\n",
    "    gc=np.divide(1.0*(seq.count('G')+seq.count('C')),seqlen)\n",
    "    return gc\n",
    "\n",
    "#add gc content feature\n",
    "Tfmerge_f['gccbc']=[gc_calc(x) for x in Tfmerge_f['Cell Barcode']]\n",
    "Tfmerge_f['gcumi']=[gc_calc(x) for x in Tfmerge_f['Molecular_Barcode']]"
   ]
  },
  {
   "cell_type": "code",
   "execution_count": 53,
   "metadata": {
    "collapsed": true
   },
   "outputs": [],
   "source": [
    "#extract final sample labels and features\n",
    "\n",
    "y=Tfmerge_f['mismatch']\n",
    "X=Tfmerge_f[['log(Reads)','TPT','gccbc','gcumi','gsums','bcsums','Avg Length','Avg GC','Avg KPK']]"
   ]
  },
  {
   "cell_type": "code",
   "execution_count": 54,
   "metadata": {
    "collapsed": false
   },
   "outputs": [],
   "source": [
    "Xlog=X.copy()\n",
    "Xlog['Avg Length']=np.log2(Xlog['Avg Length'])\n",
    "Xlog['bcsums']=np.log2(Xlog['bcsums'])"
   ]
  },
  {
   "cell_type": "code",
   "execution_count": null,
   "metadata": {
    "collapsed": true
   },
   "outputs": [],
   "source": [
    "XZ=X1.copy()\n",
    "XZ=pd.DataFrame(sklearn.preprocessing.scale(Xlog,axis=0))\n",
    "XZ.index=X1.index\n",
    "XZ.columns=X1.columns"
   ]
  },
  {
   "cell_type": "code",
   "execution_count": 61,
   "metadata": {
    "collapsed": true
   },
   "outputs": [],
   "source": [
    "rf=sklearn.ensemble.RandomForestClassifier(n_estimators=300,oob_score=True,n_jobs=-1,class_weight='auto',verbose=2)"
   ]
  },
  {
   "cell_type": "code",
   "execution_count": 62,
   "metadata": {
    "collapsed": false
   },
   "outputs": [
    {
     "name": "stderr",
     "output_type": "stream",
     "text": [
      "[Parallel(n_jobs=-1)]: Done  25 tasks      | elapsed:  1.2min\n",
      "[Parallel(n_jobs=-1)]: Done 146 tasks      | elapsed:  5.7min\n",
      "[Parallel(n_jobs=-1)]: Done 300 out of 300 | elapsed: 11.6min finished\n"
     ]
    },
    {
     "name": "stdout",
     "output_type": "stream",
     "text": [
      "building tree 1 of 300\n",
      "building tree 2 of 300\n",
      "building tree 3 of 300\n",
      "building tree 4 of 300\n",
      "building tree 5 of 300\n",
      "building tree 6 of 300\n",
      "building tree 7 of 300\n",
      "building tree 8 of 300\n",
      "building tree 9 of 300\n",
      "building tree 10 of 300\n",
      "building tree 11 of 300\n",
      "building tree 12 of 300\n",
      "building tree 13 of 300\n",
      "building tree 14 of 300\n",
      "building tree 15 of 300\n",
      "building tree 16 of 300\n",
      "building tree 17 of 300\n",
      "building tree 18 of 300\n",
      "building tree 19 of 300\n",
      "building tree 20 of 300\n",
      "building tree 21 of 300\n",
      "building tree 22 of 300\n",
      "building tree 23 of 300\n",
      "building tree 24 of 300\n",
      "building tree 25 of 300\n",
      "building tree 26 of 300\n",
      "building tree 27 of 300\n",
      "building tree 28 of 300\n",
      "building tree 29 of 300\n",
      "building tree 30 of 300\n",
      "building tree 31 of 300\n",
      "building tree 32 of 300\n",
      "building tree 33 of 300\n",
      "building tree 34 of 300\n",
      "building tree 35 of 300\n",
      "building tree 36 of 300\n",
      "building tree 37 of 300\n",
      "building tree 38 of 300\n",
      "building tree 39 of 300\n",
      "building tree 40 of 300\n",
      "building tree 41 of 300\n",
      "building tree 42 of 300\n",
      "building tree 43 of 300\n",
      "building tree 44 of 300\n",
      "building tree 45 of 300\n",
      "building tree 46 of 300\n",
      "building tree 47 of 300\n",
      "building tree 48 of 300\n",
      "building tree 49 of 300\n",
      "building tree 50 of 300\n",
      "building tree 51 of 300\n",
      "building tree 52 of 300\n",
      "building tree 53 of 300\n",
      "building tree 54 of 300\n",
      "building tree 55 of 300\n",
      "building tree 56 of 300\n",
      "building tree 57 of 300\n",
      "building tree 58 of 300\n",
      "building tree 59 of 300\n",
      "building tree 60 of 300\n",
      "building tree 61 of 300\n",
      "building tree 62 of 300\n",
      "building tree 63 of 300\n",
      "building tree 64 of 300\n",
      "building tree 65 of 300\n",
      "building tree 66 of 300\n",
      "building tree 67 of 300\n",
      "building tree 68 of 300\n",
      "building tree 69 of 300\n",
      "building tree 70 of 300\n",
      "building tree 71 of 300\n",
      "building tree 72 of 300\n",
      "building tree 73 of 300\n",
      "building tree 74 of 300\n",
      "building tree 75 of 300\n",
      "building tree 76 of 300\n",
      "building tree 77 of 300\n",
      "building tree 78 of 300\n",
      "building tree 79 of 300\n",
      "building tree 80 of 300\n",
      "building tree 81 of 300\n",
      "building tree 82 of 300\n",
      "building tree 83 of 300\n",
      "building tree 84 of 300\n",
      "building tree 85 of 300\n",
      "building tree 86 of 300\n",
      "building tree 87 of 300\n",
      "building tree 88 of 300\n",
      "building tree 89 of 300\n",
      "building tree 90 of 300\n",
      "building tree 91 of 300\n",
      "building tree 92 of 300\n",
      "building tree 93 of 300\n",
      "building tree 94 of 300\n",
      "building tree 95 of 300\n",
      "building tree 96 of 300\n",
      "building tree 97 of 300\n",
      "building tree 98 of 300\n",
      "building tree 99 of 300\n",
      "building tree 100 of 300\n",
      "building tree 101 of 300\n",
      "building tree 102 of 300\n",
      "building tree 103 of 300\n",
      "building tree 104 of 300\n",
      "building tree 105 of 300\n",
      "building tree 106 of 300\n",
      "building tree 107 of 300\n",
      "building tree 108 of 300\n",
      "building tree 109 of 300\n",
      "building tree 110 of 300\n",
      "building tree 111 of 300\n",
      "building tree 112 of 300\n",
      "building tree 113 of 300\n",
      "building tree 114 of 300\n",
      "building tree 115 of 300\n",
      "building tree 116 of 300\n",
      "building tree 117 of 300\n",
      "building tree 118 of 300\n",
      "building tree 119 of 300\n",
      "building tree 120 of 300\n",
      "building tree 121 of 300\n",
      "building tree 122 of 300\n",
      "building tree 123 of 300\n",
      "building tree 124 of 300\n",
      "building tree 125 of 300\n",
      "building tree 126 of 300\n",
      "building tree 127 of 300\n",
      "building tree 128 of 300\n",
      "building tree 129 of 300\n",
      "building tree 130 of 300\n",
      "building tree 131 of 300\n",
      "building tree 132 of 300\n",
      "building tree 133 of 300\n",
      "building tree 134 of 300\n",
      "building tree 135 of 300\n",
      "building tree 136 of 300\n",
      "building tree 137 of 300\n",
      "building tree 138 of 300\n",
      "building tree 139 of 300\n",
      "building tree 140 of 300\n",
      "building tree 141 of 300\n",
      "building tree 142 of 300\n",
      "building tree 143 of 300\n",
      "building tree 144 of 300\n",
      "building tree 145 of 300\n",
      "building tree 146 of 300\n",
      "building tree 147 of 300\n",
      "building tree 148 of 300\n",
      "building tree 149 of 300\n",
      "building tree 150 of 300\n",
      "building tree 151 of 300\n",
      "building tree 152 of 300\n",
      "building tree 153 of 300\n",
      "building tree 154 of 300\n",
      "building tree 155 of 300\n",
      "building tree 156 of 300\n",
      "building tree 157 of 300\n",
      "building tree 158 of 300\n",
      "building tree 159 of 300\n",
      "building tree 160 of 300\n",
      "building tree 161 of 300\n",
      "building tree 162 of 300\n",
      "building tree 163 of 300\n",
      "building tree 164 of 300\n",
      "building tree 165 of 300\n",
      "building tree 166 of 300\n",
      "building tree 167 of 300\n",
      "building tree 168 of 300\n",
      "building tree 169 of 300\n",
      "building tree 170 of 300\n",
      "building tree 171 of 300\n",
      "building tree 172 of 300\n",
      "building tree 173 of 300\n",
      "building tree 174 of 300\n",
      "building tree 175 of 300\n",
      "building tree 176 of 300\n",
      "building tree 177 of 300\n",
      "building tree 178 of 300\n",
      "building tree 179 of 300\n",
      "building tree 180 of 300\n",
      "building tree 181 of 300\n",
      "building tree 182 of 300\n",
      "building tree 183 of 300\n",
      "building tree 184 of 300\n",
      "building tree 185 of 300\n",
      "building tree 186 of 300\n",
      "building tree 187 of 300\n",
      "building tree 188 of 300\n",
      "building tree 189 of 300\n",
      "building tree 190 of 300\n",
      "building tree 191 of 300\n",
      "building tree 192 of 300\n",
      "building tree 193 of 300\n",
      "building tree 194 of 300\n",
      "building tree 195 of 300\n",
      "building tree 196 of 300\n",
      "building tree 197 of 300\n",
      "building tree 198 of 300\n",
      "building tree 199 of 300\n",
      "building tree 200 of 300\n",
      "building tree 201 of 300\n",
      "building tree 202 of 300\n",
      "building tree 203 of 300\n",
      "building tree 204 of 300\n",
      "building tree 205 of 300\n",
      "building tree 206 of 300\n",
      "building tree 207 of 300\n",
      "building tree 208 of 300\n",
      "building tree 209 of 300\n",
      "building tree 210 of 300\n",
      "building tree 211 of 300\n",
      "building tree 212 of 300\n",
      "building tree 213 of 300\n",
      "building tree 214 of 300\n",
      "building tree 215 of 300\n",
      "building tree 216 of 300\n",
      "building tree 217 of 300\n",
      "building tree 218 of 300\n",
      "building tree 219 of 300\n",
      "building tree 220 of 300\n",
      "building tree 221 of 300\n",
      "building tree 222 of 300\n",
      "building tree 223 of 300\n",
      "building tree 224 of 300\n",
      "building tree 225 of 300\n",
      "building tree 226 of 300\n",
      "building tree 227 of 300\n",
      "building tree 228 of 300\n",
      "building tree 229 of 300\n",
      "building tree 230 of 300\n",
      "building tree 231 of 300\n",
      "building tree 232 of 300\n",
      "building tree 233 of 300\n",
      "building tree 234 of 300\n",
      "building tree 235 of 300\n",
      "building tree 236 of 300\n",
      "building tree 237 of 300\n",
      "building tree 238 of 300\n",
      "building tree 239 of 300\n",
      "building tree 240 of 300\n",
      "building tree 241 of 300\n",
      "building tree 242 of 300\n",
      "building tree 243 of 300\n",
      "building tree 244 of 300\n",
      "building tree 245 of 300\n",
      "building tree 246 of 300\n",
      "building tree 247 of 300\n",
      "building tree 248 of 300\n",
      "building tree 249 of 300\n",
      "building tree 250 of 300\n",
      "building tree 251 of 300\n",
      "building tree 252 of 300\n",
      "building tree 253 of 300\n",
      "building tree 254 of 300\n",
      "building tree 255 of 300\n",
      "building tree 256 of 300\n",
      "building tree 257 of 300\n",
      "building tree 258 of 300\n",
      "building tree 259 of 300\n",
      "building tree 260 of 300\n",
      "building tree 261 of 300\n",
      "building tree 262 of 300\n",
      "building tree 263 of 300\n",
      "building tree 264 of 300\n",
      "building tree 265 of 300\n",
      "building tree 266 of 300\n",
      "building tree 267 of 300\n",
      "building tree 268 of 300\n",
      "building tree 269 of 300\n",
      "building tree 270 of 300\n",
      "building tree 271 of 300\n",
      "building tree 272 of 300\n",
      "building tree 273 of 300\n",
      "building tree 274 of 300\n",
      "building tree 275 of 300\n",
      "building tree 276 of 300\n",
      "building tree 277 of 300\n",
      "building tree 278 of 300\n",
      "building tree 279 of 300\n",
      "building tree 280 of 300\n",
      "building tree 281 of 300\n",
      "building tree 282 of 300\n",
      "building tree 283 of 300\n",
      "building tree 284 of 300\n",
      "building tree 285 of 300\n",
      "building tree 286 of 300\n",
      "building tree 287 of 300\n",
      "building tree 288 of 300\n",
      "building tree 289 of 300\n",
      "building tree 290 of 300\n",
      "building tree 291 of 300\n",
      "building tree 292 of 300\n",
      "building tree 293 of 300\n",
      "building tree 294 of 300\n",
      "building tree 295 of 300\n",
      "building tree 296 of 300\n",
      "building tree 297 of 300\n",
      "building tree 298 of 300\n",
      "building tree 299 of 300\n",
      "building tree 300 of 300\n"
     ]
    },
    {
     "data": {
      "text/plain": [
       "RandomForestClassifier(bootstrap=True, class_weight='auto', criterion='gini',\n",
       "            max_depth=None, max_features='auto', max_leaf_nodes=None,\n",
       "            min_samples_leaf=1, min_samples_split=2,\n",
       "            min_weight_fraction_leaf=0.0, n_estimators=300, n_jobs=-1,\n",
       "            oob_score=True, random_state=None, verbose=2, warm_start=False)"
      ]
     },
     "execution_count": 62,
     "metadata": {},
     "output_type": "execute_result"
    }
   ],
   "source": [
    "#fit random forest\n",
    "rf.fit(XZ,y)"
   ]
  },
  {
   "cell_type": "code",
   "execution_count": 65,
   "metadata": {
    "collapsed": true
   },
   "outputs": [],
   "source": [
    "probs=[(x[0]-x[1]) for x in rf.oob_decision_function_]"
   ]
  },
  {
   "cell_type": "code",
   "execution_count": 110,
   "metadata": {
    "collapsed": true
   },
   "outputs": [],
   "source": [
    "fprrf, tprrf, thresholds = sklearn.metrics.roc_curve(y,-np.array(probs))"
   ]
  },
  {
   "cell_type": "code",
   "execution_count": 173,
   "metadata": {
    "collapsed": false
   },
   "outputs": [
    {
     "data": {
      "text/plain": [
       "<matplotlib.legend.Legend at 0x30c708950>"
      ]
     },
     "execution_count": 173,
     "metadata": {},
     "output_type": "execute_result"
    },
    {
     "data": {
      "image/png": "[encoded data removed]",
      "text/plain": [
       "<matplotlib.figure.Figure at 0x258633e90>"
      ]
     },
     "metadata": {},
     "output_type": "display_data"
    }
   ],
   "source": [
    "plt.plot(fprrf,tprrf,label='Random Forest')\n",
    "plt.plot([0,1],[0,1],c='black')\n",
    "plt.xlabel('1-Specificity')\n",
    "plt.ylabel('Sensitivity')\n",
    "plt.axvline(0.04,c='gray')\n",
    "plt.legend(loc=4)"
   ]
  },
  {
   "cell_type": "code",
   "execution_count": 168,
   "metadata": {
    "collapsed": false
   },
   "outputs": [
    {
     "name": "stdout",
     "output_type": "stream",
     "text": [
      "AUC is 0.98191948962\n",
      "Filtered 3.48% of molecules\n"
     ]
    }
   ],
   "source": [
    "aucrf=sklearn.metrics.auc(fprrf,tprrf)\n",
    "print('AUC is '+str(aucrf))\n",
    "probthresh=thresholds[fprrf<fpr_threshold][-1]\n",
    "prob_logical=-np.array(probs)<probthresh\n",
    "print('Filtered '+str(np.round(100.0*(1.0-np.mean(prob_logical)),2))+'% of molecules')"
   ]
  },
  {
   "cell_type": "code",
   "execution_count": 169,
   "metadata": {
    "collapsed": false
   },
   "outputs": [
    {
     "name": "stderr",
     "output_type": "stream",
     "text": [
      "/Users/atray/anaconda/lib/python2.7/site-packages/ipykernel/__main__.py:5: SettingWithCopyWarning: \n",
      "A value is trying to be set on a copy of a slice from a DataFrame.\n",
      "Try using .loc[row_indexer,col_indexer] = value instead\n",
      "\n",
      "See the caveats in the documentation: http://pandas.pydata.org/pandas-docs/stable/indexing.html#indexing-view-versus-copy\n",
      "/Users/atray/anaconda/lib/python2.7/site-packages/ipykernel/__main__.py:6: SettingWithCopyWarning: \n",
      "A value is trying to be set on a copy of a slice from a DataFrame.\n",
      "Try using .loc[row_indexer,col_indexer] = value instead\n",
      "\n",
      "See the caveats in the documentation: http://pandas.pydata.org/pandas-docs/stable/indexing.html#indexing-view-versus-copy\n"
     ]
    }
   ],
   "source": [
    "df_rf=pd.DataFrame(rf.feature_importances_)\n",
    "df_rf.index=Xboth.columns\n",
    "df_rf.sort_values(0,ascending=False)\n",
    "T_F=Tfmerge_f[prob_logical]\n",
    "T_F['unique']=np.array([1.0]*len(T_F))\n",
    "T_F['bcgene']=[(x,y) for x,y in zip(T_F['Cell Barcode'],T_F['Gene'])]\n",
    "T_FF = T_F.groupby('bcgene').sum()"
   ]
  },
  {
   "cell_type": "code",
   "execution_count": 170,
   "metadata": {
    "collapsed": true
   },
   "outputs": [],
   "source": [
    "def str2index(strlist):\n",
    "    reduced=pd.DataFrame(list(set(np.sort(strlist))))\n",
    "    reduced=reduced.reset_index()\n",
    "    reduced.index=reduced[0]\n",
    "    dftmp=pd.DataFrame(strlist,index=strlist)\n",
    "    dftmp=dftmp.merge(reduced,how='left')['index']\n",
    "    return np.array(dftmp),list(reduced[0])"
   ]
  },
  {
   "cell_type": "code",
   "execution_count": 171,
   "metadata": {
    "collapsed": false
   },
   "outputs": [],
   "source": [
    "tfrow=[x[1] for x in T_FF.index]\n",
    "tfrow,gnames=str2index(tfrow)\n",
    "tfcol=[x[0] for x in T_FF.index]\n",
    "tfcol,cnames=str2index(tfcol)\n",
    "tfdata=np.array(T_FF['unique'])\n",
    "tmpcol=pd.DataFrame(np.unique(tfcol))\n",
    "tmpcol['unind']=range(len(tmpcol))\n",
    "\n",
    "dftfcol=pd.DataFrame(tfcol)\n",
    "dftfcol=dftfcol.merge(tmpcol,on=0)\n",
    "tfcol=np.array(dftfcol['unind'])\n",
    "EXPR_MAT=scipy.sparse.csr_matrix((tfdata,(tfrow,tfcol)),shape=(np.max(tfrow)+1,np.max(tfcol)+1)).toarray()\n",
    "EXPR_MAT=pd.DataFrame(EXPR_MAT)\n",
    "EXPR_MAT.index=gnames\n",
    "EXPR_MAT.columns=cnames"
   ]
  },
  {
   "cell_type": "code",
   "execution_count": 144,
   "metadata": {
    "collapsed": false
   },
   "outputs": [
    {
     "data": {
      "text/html": [
       "<div>\n",
       "<table border=\"1\" class=\"dataframe\">\n",
       "  <thead>\n",
       "    <tr style=\"text-align: right;\">\n",
       "      <th></th>\n",
       "      <th>ATCTTCGGATCA</th>\n",
       "      <th>TACAATTAAGGC</th>\n",
       "      <th>TTGCCTTACGCG</th>\n",
       "      <th>TCTGGATGCGCA</th>\n",
       "      <th>GGATACATGGTA</th>\n",
       "      <th>CACTCTGCAAGG</th>\n",
       "      <th>GAAGTTGGCGGA</th>\n",
       "      <th>AGACTTCCCTCG</th>\n",
       "      <th>AAGTAAGCAAGC</th>\n",
       "      <th>TGGCTATACCAA</th>\n",
       "      <th>...</th>\n",
       "      <th>CGCCCAGTACCG</th>\n",
       "      <th>GAGACTGCCCCA</th>\n",
       "      <th>GAATGGCATGCT</th>\n",
       "      <th>CCTAGACGTAGT</th>\n",
       "      <th>GACACTTCATCG</th>\n",
       "      <th>CGTGATGACCCT</th>\n",
       "      <th>AACCTATGGGCC</th>\n",
       "      <th>CCTTGTACTTTT</th>\n",
       "      <th>TGAATGTTTGAC</th>\n",
       "      <th>TCTCACAATGGG</th>\n",
       "    </tr>\n",
       "  </thead>\n",
       "  <tbody>\n",
       "    <tr>\n",
       "      <th>Plekhg2</th>\n",
       "      <td>0.0</td>\n",
       "      <td>0.0</td>\n",
       "      <td>0.0</td>\n",
       "      <td>0.0</td>\n",
       "      <td>0.0</td>\n",
       "      <td>1.0</td>\n",
       "      <td>0.0</td>\n",
       "      <td>0.0</td>\n",
       "      <td>0.0</td>\n",
       "      <td>0.0</td>\n",
       "      <td>...</td>\n",
       "      <td>0.0</td>\n",
       "      <td>0.0</td>\n",
       "      <td>0.0</td>\n",
       "      <td>0.0</td>\n",
       "      <td>0.0</td>\n",
       "      <td>0.0</td>\n",
       "      <td>0.0</td>\n",
       "      <td>0.0</td>\n",
       "      <td>0.0</td>\n",
       "      <td>1.0</td>\n",
       "    </tr>\n",
       "    <tr>\n",
       "      <th>Plekhg3</th>\n",
       "      <td>0.0</td>\n",
       "      <td>0.0</td>\n",
       "      <td>0.0</td>\n",
       "      <td>0.0</td>\n",
       "      <td>0.0</td>\n",
       "      <td>0.0</td>\n",
       "      <td>0.0</td>\n",
       "      <td>0.0</td>\n",
       "      <td>0.0</td>\n",
       "      <td>0.0</td>\n",
       "      <td>...</td>\n",
       "      <td>0.0</td>\n",
       "      <td>1.0</td>\n",
       "      <td>0.0</td>\n",
       "      <td>0.0</td>\n",
       "      <td>0.0</td>\n",
       "      <td>0.0</td>\n",
       "      <td>0.0</td>\n",
       "      <td>0.0</td>\n",
       "      <td>0.0</td>\n",
       "      <td>0.0</td>\n",
       "    </tr>\n",
       "    <tr>\n",
       "      <th>Plekhg4</th>\n",
       "      <td>0.0</td>\n",
       "      <td>0.0</td>\n",
       "      <td>0.0</td>\n",
       "      <td>0.0</td>\n",
       "      <td>0.0</td>\n",
       "      <td>0.0</td>\n",
       "      <td>0.0</td>\n",
       "      <td>0.0</td>\n",
       "      <td>0.0</td>\n",
       "      <td>0.0</td>\n",
       "      <td>...</td>\n",
       "      <td>0.0</td>\n",
       "      <td>0.0</td>\n",
       "      <td>0.0</td>\n",
       "      <td>0.0</td>\n",
       "      <td>0.0</td>\n",
       "      <td>0.0</td>\n",
       "      <td>0.0</td>\n",
       "      <td>0.0</td>\n",
       "      <td>0.0</td>\n",
       "      <td>0.0</td>\n",
       "    </tr>\n",
       "    <tr>\n",
       "      <th>Plekhg5</th>\n",
       "      <td>0.0</td>\n",
       "      <td>0.0</td>\n",
       "      <td>0.0</td>\n",
       "      <td>0.0</td>\n",
       "      <td>0.0</td>\n",
       "      <td>0.0</td>\n",
       "      <td>0.0</td>\n",
       "      <td>0.0</td>\n",
       "      <td>0.0</td>\n",
       "      <td>0.0</td>\n",
       "      <td>...</td>\n",
       "      <td>0.0</td>\n",
       "      <td>0.0</td>\n",
       "      <td>0.0</td>\n",
       "      <td>0.0</td>\n",
       "      <td>0.0</td>\n",
       "      <td>0.0</td>\n",
       "      <td>0.0</td>\n",
       "      <td>0.0</td>\n",
       "      <td>0.0</td>\n",
       "      <td>0.0</td>\n",
       "    </tr>\n",
       "    <tr>\n",
       "      <th>Nsa2</th>\n",
       "      <td>0.0</td>\n",
       "      <td>0.0</td>\n",
       "      <td>0.0</td>\n",
       "      <td>0.0</td>\n",
       "      <td>0.0</td>\n",
       "      <td>1.0</td>\n",
       "      <td>0.0</td>\n",
       "      <td>0.0</td>\n",
       "      <td>0.0</td>\n",
       "      <td>0.0</td>\n",
       "      <td>...</td>\n",
       "      <td>0.0</td>\n",
       "      <td>3.0</td>\n",
       "      <td>0.0</td>\n",
       "      <td>0.0</td>\n",
       "      <td>0.0</td>\n",
       "      <td>0.0</td>\n",
       "      <td>0.0</td>\n",
       "      <td>0.0</td>\n",
       "      <td>2.0</td>\n",
       "      <td>4.0</td>\n",
       "    </tr>\n",
       "  </tbody>\n",
       "</table>\n",
       "<p>5 rows × 76 columns</p>\n",
       "</div>"
      ],
      "text/plain": [
       "         ATCTTCGGATCA  TACAATTAAGGC  TTGCCTTACGCG  TCTGGATGCGCA  GGATACATGGTA  \\\n",
       "Plekhg2           0.0           0.0           0.0           0.0           0.0   \n",
       "Plekhg3           0.0           0.0           0.0           0.0           0.0   \n",
       "Plekhg4           0.0           0.0           0.0           0.0           0.0   \n",
       "Plekhg5           0.0           0.0           0.0           0.0           0.0   \n",
       "Nsa2              0.0           0.0           0.0           0.0           0.0   \n",
       "\n",
       "         CACTCTGCAAGG  GAAGTTGGCGGA  AGACTTCCCTCG  AAGTAAGCAAGC  TGGCTATACCAA  \\\n",
       "Plekhg2           1.0           0.0           0.0           0.0           0.0   \n",
       "Plekhg3           0.0           0.0           0.0           0.0           0.0   \n",
       "Plekhg4           0.0           0.0           0.0           0.0           0.0   \n",
       "Plekhg5           0.0           0.0           0.0           0.0           0.0   \n",
       "Nsa2              1.0           0.0           0.0           0.0           0.0   \n",
       "\n",
       "             ...       CGCCCAGTACCG  GAGACTGCCCCA  GAATGGCATGCT  CCTAGACGTAGT  \\\n",
       "Plekhg2      ...                0.0           0.0           0.0           0.0   \n",
       "Plekhg3      ...                0.0           1.0           0.0           0.0   \n",
       "Plekhg4      ...                0.0           0.0           0.0           0.0   \n",
       "Plekhg5      ...                0.0           0.0           0.0           0.0   \n",
       "Nsa2         ...                0.0           3.0           0.0           0.0   \n",
       "\n",
       "         GACACTTCATCG  CGTGATGACCCT  AACCTATGGGCC  CCTTGTACTTTT  TGAATGTTTGAC  \\\n",
       "Plekhg2           0.0           0.0           0.0           0.0           0.0   \n",
       "Plekhg3           0.0           0.0           0.0           0.0           0.0   \n",
       "Plekhg4           0.0           0.0           0.0           0.0           0.0   \n",
       "Plekhg5           0.0           0.0           0.0           0.0           0.0   \n",
       "Nsa2              0.0           0.0           0.0           0.0           2.0   \n",
       "\n",
       "         TCTCACAATGGG  \n",
       "Plekhg2           1.0  \n",
       "Plekhg3           0.0  \n",
       "Plekhg4           0.0  \n",
       "Plekhg5           0.0  \n",
       "Nsa2              4.0  \n",
       "\n",
       "[5 rows x 76 columns]"
      ]
     },
     "execution_count": 144,
     "metadata": {},
     "output_type": "execute_result"
    }
   ],
   "source": [
    "#WARNING this matrix contains both human and mouse genes, but you can filter as needed\n",
    "EXPR_MAT.head()"
   ]
  },
  {
   "cell_type": "code",
   "execution_count": null,
   "metadata": {
    "collapsed": true
   },
   "outputs": [],
   "source": [
    "EXPR_MAT.to_csv(outputpath+'/expr_mat_Perseusfiltered.txt',sep='\\t')"
   ]
  }
 ],
 "metadata": {
  "kernelspec": {
   "display_name": "Python 2",
   "language": "python",
   "name": "python2"
  },
  "language_info": {
   "codemirror_mode": {
    "name": "ipython",
    "version": 2
   },
   "file_extension": ".py",
   "mimetype": "text/x-python",
   "name": "python",
   "nbconvert_exporter": "python",
   "pygments_lexer": "ipython2",
   "version": "2.7.11"
  }
 },
 "nbformat": 4,
 "nbformat_minor": 0
}
